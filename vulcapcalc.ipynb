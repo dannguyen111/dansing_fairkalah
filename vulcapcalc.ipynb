{
 "cells": [
  {
   "cell_type": "code",
   "execution_count": 12,
   "metadata": {},
   "outputs": [
    {
     "name": "stdout",
     "output_type": "stream",
     "text": [
      "Processing complete. Results saved in 'output.csv'.\n"
     ]
    }
   ],
   "source": [
    "import csv\n",
    "\n",
    "# Function to calculate vulnerable_stones\n",
    "def vulnerable_stones(state):\n",
    "    vulnerable = 0\n",
    "    PLAY_PITS = 6  # Assuming there are 6 pits for each player\n",
    "    for i in range(PLAY_PITS + 1, 2 * PLAY_PITS + 1):\n",
    "        mirrored_pit = 2 * PLAY_PITS + 1 - i # This indicates the pit number of the pit we're considering on the opponent's side\n",
    "        if state[i] == 0 and reachable_pit(mirrored_pit, state, True):\n",
    "            vulnerable += state[PLAY_PITS * 2 - i]\n",
    "    return vulnerable\n",
    "\n",
    "# Function to calculate capturable_stones\n",
    "def capturable_stones(state):\n",
    "    capturable = 0\n",
    "    PLAY_PITS = 6  # Assuming there are 6 pits for each player\n",
    "    for i in range(PLAY_PITS):\n",
    "        if state[i] == 0 and reachable_pit(PLAY_PITS - i, state, False):\n",
    "            capturable += state[PLAY_PITS * 2 - i]\n",
    "    return capturable\n",
    "\n",
    "# Helper function to determine if a pit is reachable\n",
    "def reachable_pit(pit, state, opponent_side):\n",
    "    PLAY_PITS = 6  # Assuming there are 6 pits for each player\n",
    "    start = PLAY_PITS + 1 if opponent_side else 0\n",
    "    end = 2 * PLAY_PITS + 1 if opponent_side else PLAY_PITS\n",
    "    relative_pit = (2 * PLAY_PITS + 1 - pit) if opponent_side else PLAY_PITS - pit # This calculate the index of the pit in the state array\n",
    "\n",
    "    for i in range(start, end):\n",
    "        if i == relative_pit and state[i] == 13:\n",
    "            return True\n",
    "        if opponent_side and i != relative_pit and state[i] == (relative_pit - i) % 13:\n",
    "            return True\n",
    "        if not opponent_side and i != relative_pit and state[i] == (PLAY_PITS - i - pit) % 13:\n",
    "            return True\n",
    "    return False\n",
    "\n",
    "# Reading the CSV file and processing rows\n",
    "input_file = 'fairkalah-maia-data.csv'\n",
    "output_file = 'output.csv'\n",
    "\n",
    "with open(input_file, mode='r') as infile, open(output_file, mode='w', newline='') as outfile:\n",
    "    reader = csv.reader(infile)\n",
    "    writer = csv.writer(outfile)\n",
    "    \n",
    "    # Write the header to the output file (including new columns)\n",
    "    header = next(reader)\n",
    "    header.extend(['vulnerable_stones', 'capturable_stones'])\n",
    "    writer.writerow(header)\n",
    "    \n",
    "    # Process each row\n",
    "    for row in reader:\n",
    "        state = list(map(int, row[:14]))  # First 14 values are the state array\n",
    "        \n",
    "        # Calculate vulnerable_stones and capturable_stones\n",
    "        vuln_stones = vulnerable_stones(state)\n",
    "        cap_stones = capturable_stones(state)\n",
    "        \n",
    "        # Append the new values to the row and write to the output file\n",
    "        row.extend([vuln_stones, cap_stones])\n",
    "        writer.writerow(row)\n",
    "\n",
    "print(\"Processing complete. Results saved in 'output.csv'.\")"
   ]
  }
 ],
 "metadata": {
  "kernelspec": {
   "display_name": "base",
   "language": "python",
   "name": "python3"
  },
  "language_info": {
   "codemirror_mode": {
    "name": "ipython",
    "version": 3
   },
   "file_extension": ".py",
   "mimetype": "text/x-python",
   "name": "python",
   "nbconvert_exporter": "python",
   "pygments_lexer": "ipython3",
   "version": "3.11.5"
  }
 },
 "nbformat": 4,
 "nbformat_minor": 2
}
